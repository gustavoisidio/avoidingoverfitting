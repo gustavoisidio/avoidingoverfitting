{
 "cells": [
  {
   "cell_type": "code",
   "execution_count": 1,
   "metadata": {},
   "outputs": [
    {
     "ename": "ModuleNotFoundError",
     "evalue": "No module named 'functions'",
     "output_type": "error",
     "traceback": [
      "\u001b[0;31m---------------------------------------------------------------------------\u001b[0m",
      "\u001b[0;31mModuleNotFoundError\u001b[0m                       Traceback (most recent call last)",
      "\u001b[0;32m<ipython-input-1-297f12ae1dde>\u001b[0m in \u001b[0;36m<module>\u001b[0;34m\u001b[0m\n\u001b[1;32m      2\u001b[0m \u001b[0;32mfrom\u001b[0m \u001b[0mmath\u001b[0m \u001b[0;32mimport\u001b[0m \u001b[0msqrt\u001b[0m\u001b[0;34m\u001b[0m\u001b[0m\n\u001b[1;32m      3\u001b[0m \u001b[0;32mimport\u001b[0m \u001b[0msklearn\u001b[0m\u001b[0;34m\u001b[0m\u001b[0m\n\u001b[0;32m----> 4\u001b[0;31m \u001b[0;32mimport\u001b[0m \u001b[0mfunctions\u001b[0m\u001b[0;34m\u001b[0m\u001b[0m\n\u001b[0m\u001b[1;32m      5\u001b[0m \u001b[0;34m\u001b[0m\u001b[0m\n\u001b[1;32m      6\u001b[0m \u001b[0;31m# printMatrix2(dataset[0][0:-1])\u001b[0m\u001b[0;34m\u001b[0m\u001b[0;34m\u001b[0m\u001b[0m\n",
      "\u001b[0;31mModuleNotFoundError\u001b[0m: No module named 'functions'"
     ]
    }
   ],
   "source": [
    "import pandas as pd\n",
    "from math import sqrt\n",
    "import sklearn\n",
    "import functions\n",
    "\n",
    "# printMatrix2(dataset[0][0:-1])\n",
    "\n",
    "df = pd.read_csv(\"4noises.csv\")\n",
    "\n",
    "def printMatrix(matrix):\n",
    "    \"\"\"\n",
    "    print a matrix with size equals to some power of two in a prety way\n",
    "    \"\"\"\n",
    "    for i in range(len(matrix)):\n",
    "        print(matrix[i], end=\"    \")\n",
    "        if (i+1)%sqrt(len(matrix)) == 0 and i!=0:\n",
    "            print(\"\\n\");\n",
    "            \n",
    "# def printMatrix3(matrix):\n",
    "#     \"\"\"\n",
    "#     print a matrix with size equals to some power of two in a realy prety way\n",
    "#     \"\"\"\n",
    "#     for i in range(len(matrix)):\n",
    "#         if matrix[i]==1:\n",
    "#             print('#', end=\"   \")\n",
    "#         else: \n",
    "#             print('.', end=\"   \")\n",
    "#         if (i+1)%sqrt(len(matrix)) == 0 and i!=0:\n",
    "#             print(\"\\n\");\n",
    "\n",
    "dataset = df.values.tolist()\n",
    "datasize = len(dataset)\n",
    "\n",
    "# for i in range (datasize):\n",
    "#     printMatrix2(dataset[i][0:-1])\n",
    "#     print(\"Class: \", dataset[i][-1])\n",
    "#     print(\"______________\\n\")\n"
   ]
  },
  {
   "cell_type": "code",
   "execution_count": null,
   "metadata": {},
   "outputs": [],
   "source": [
    "# def loadDataset(noises, balanced, printdataset):\n",
    "#     if (noises == 0):\n",
    "#         if (balanced == True): dataset = pd.read_csv(\"0noise-balanced.csv\").values.tolist()\n",
    "#         else: dataset = pd.read_csv(\"0noise.csv\").values.tolist()\n",
    "#     if (noises == 1):\n",
    "#         if (balanced == True): dataset = pd.read_csv(\"1noise-balanced.csv\").values.tolist()\n",
    "#         else: dataset = pd.read_csv(\"1noise.csv\").values.tolist()\n",
    "#     if (noises == 2):\n",
    "#         if (balanced == True): dataset = pd.read_csv(\"2noises-balanced.csv\").values.tolist()\n",
    "#         else: dataset = pd.read_csv(\"2noises.csv\").values.tolist()     \n",
    "#     if (noises == 3):\n",
    "#         if (balanced == True): dataset = pd.read_csv(\"3noises-balanced.csv\").values.tolist()\n",
    "#         else: dataset = pd.read_csv(\"3noises.csv\").values.tolist()          \n",
    "#     if (noises == 4):\n",
    "#         if (balanced == True): dataset = pd.read_csv(\"0noise-balanced.csv\").values.tolist()\n",
    "#         else: dataset = pd.read_csv(\"3noises.csv\").values.tolist()\n",
    "    \n",
    "#     print(\"Base\")\n",
    "#     print(\"Ruído:\", noises, \"|Balanceada:\", balanced, \"|Exemplares:\", len(dataset))\n",
    "    \n",
    "#     if (printdataset):\n",
    "#         for i in range (len(dataset)):\n",
    "#             printMatrix3(dataset[i][0:-1])\n",
    "#             print(\"Class: \", dataset[i][-1])\n",
    "#             print(\"______________\\n\")\n",
    "    \n",
    "#     return dataset"
   ]
  },
  {
   "cell_type": "code",
   "execution_count": null,
   "metadata": {},
   "outputs": [],
   "source": [
    "# howmany1 = 2140\n",
    "\n",
    "# df1 = df[:howmany1] # Pega classe 1\n",
    "# df0 = df[howmany1+1:] # Pega classe 0\n",
    "# df0 = sklearn.utils.shuffle(df0) # Mistura 0\n",
    "# df0 = df0[:howmany1] # Pega mesma quantidade de 1\n",
    "# frames = [df1, df0] \n",
    "# df = pd.concat(frames) # Junta tudo, 50% de cada classe\n",
    "\n",
    "# df"
   ]
  },
  {
   "cell_type": "code",
   "execution_count": null,
   "metadata": {},
   "outputs": [],
   "source": [
    "# df.to_csv(r'4noises-balanced.csv',index=False)"
   ]
  },
  {
   "cell_type": "code",
   "execution_count": null,
   "metadata": {},
   "outputs": [],
   "source": [
    "loadDataset(noises = 0,\n",
    "            balanced = True,\n",
    "            printdataset = True)"
   ]
  },
  {
   "cell_type": "code",
   "execution_count": null,
   "metadata": {},
   "outputs": [],
   "source": []
  }
 ],
 "metadata": {
  "kernelspec": {
   "display_name": "Python 3",
   "language": "python",
   "name": "python3"
  },
  "language_info": {
   "codemirror_mode": {
    "name": "ipython",
    "version": 3
   },
   "file_extension": ".py",
   "mimetype": "text/x-python",
   "name": "python",
   "nbconvert_exporter": "python",
   "pygments_lexer": "ipython3",
   "version": "3.6.0"
  }
 },
 "nbformat": 4,
 "nbformat_minor": 2
}
